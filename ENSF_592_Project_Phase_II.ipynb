{
 "cells": [
  {
   "cell_type": "markdown",
   "metadata": {},
   "source": [
    "# ENSF 592 Project: Phase II"
   ]
  },
  {
   "cell_type": "markdown",
   "metadata": {},
   "source": [
    "## Data Preparation"
   ]
  },
  {
   "cell_type": "code",
   "execution_count": 1,
   "metadata": {},
   "outputs": [],
   "source": [
    "import pandas as pd\n",
    "import numpy as np\n",
    "import folium"
   ]
  },
  {
   "cell_type": "markdown",
   "metadata": {},
   "source": [
    "### Get a 10 x 10 matrix of city limits"
   ]
  },
  {
   "cell_type": "code",
   "execution_count": 2,
   "metadata": {},
   "outputs": [],
   "source": [
    "# Read data for city boundaries\n",
    "data_city_boundary = pd.read_csv('City_Boundary_layer.csv')\n",
    "\n",
    "# Manipulate polygon string to get list of coordinates\n",
    "polygon = data_city_boundary['the_geom'].values[0]\n",
    "polygon = polygon[10:-2]\n",
    "coordinates_city_limits = polygon.split(', ')\n",
    "\n",
    "# Get a list of longitudes and latitudes for the city limits\n",
    "longitudes_city_limits = []\n",
    "latitudes_city_limits = []\n",
    "for long_lat in coordinates_city_limits:\n",
    "    long, lat = long_lat.split()\n",
    "    long = float(long)\n",
    "    lat = float(lat)\n",
    "    longitudes_city_limits.append(long)\n",
    "    latitudes_city_limits.append(lat)\n",
    "    \n",
    "# Find absolute city limits as the min/max longitude/latitude\n",
    "overall_min_long = min(longitudes_city_limits)\n",
    "overall_max_long = max(longitudes_city_limits)\n",
    "overall_min_lat = min(latitudes_city_limits)\n",
    "overall_max_lat = max(latitudes_city_limits)\n",
    "\n",
    "# Split the city into a 10 x 10 matrix\n",
    "# Create a 10x10 matrix\n",
    "quadrant = [[0 for x in range(10)] for y in range(10)]\n",
    "# Populate quadrant boundaries\n",
    "for i in range(0,10):\n",
    "    # Get the min/max longitude for the quadrant\n",
    "    min_long = overall_min_long + (overall_max_long - overall_min_long) / 10 * i\n",
    "    max_long = overall_min_long + (overall_max_long - overall_min_long) / 10 * (i + 1)\n",
    "    for j in range(0, 10):\n",
    "        # Get the min/max latitude for the quadrant\n",
    "        min_lat = overall_min_lat + (overall_max_lat - overall_min_lat) / 10 * j\n",
    "        max_lat = overall_min_lat + (overall_max_lat - overall_min_lat) / 10 * (j + 1)\n",
    "        # Populate data into a dataframe for each quadrant\n",
    "        quadrant[i][j] = {'min_lat':min_lat,'max_lat':max_lat,'min_long':min_long,'max_long':max_long}"
   ]
  },
  {
   "cell_type": "markdown",
   "metadata": {},
   "source": [
    "### Plot a map of the city limits"
   ]
  },
  {
   "cell_type": "code",
   "execution_count": 3,
   "metadata": {},
   "outputs": [],
   "source": [
    "# Start maps at the center of Calgary\n",
    "map_overall_boundaries = folium.Map(location=[51.0447, -114.0719], zoom_start=10)\n",
    "map_quadrant_boundaries = folium.Map(location=[51.0447, -114.0719], zoom_start=10)\n",
    "\n",
    "# Place rectangles\n",
    "# Place rectangle for the overall map\n",
    "folium.vector_layers.Rectangle([(overall_max_lat, overall_max_long), \\\n",
    "                                (overall_max_lat, overall_min_long), \\\n",
    "                                (overall_min_lat, overall_max_long), \\\n",
    "                                (overall_min_lat, overall_min_long)]).add_to(map_overall_boundaries)\n",
    "            \n",
    "# Place rectangle for each quadrant\n",
    "for i in range(0,10):\n",
    "    for j in range(0, 10):\n",
    "        folium.vector_layers.Rectangle([(quadrant[i][j]['max_lat'], quadrant[i][j]['max_long']), \\\n",
    "                                        (quadrant[i][j]['max_lat'], quadrant[i][j]['min_long']), \\\n",
    "                                        (quadrant[i][j]['min_lat'], quadrant[i][j]['max_long']), \\\n",
    "                                        (quadrant[i][j]['min_lat'], quadrant[i][j]['min_long'])]).add_to(map_quadrant_boundaries)\n",
    "\n",
    "# Save maps\n",
    "map_overall_boundaries.save('map_overall_boundaries.html')\n",
    "map_quadrant_boundaries.save('map_quadrant_boundaries.html')"
   ]
  },
  {
   "cell_type": "markdown",
   "metadata": {},
   "source": [
    "### Load and clean data"
   ]
  },
  {
   "cell_type": "markdown",
   "metadata": {},
   "source": [
    "#### Speed Limit"
   ]
  },
  {
   "cell_type": "code",
   "execution_count": 4,
   "metadata": {},
   "outputs": [],
   "source": [
    "# Need a dataframe with lat, long, and speed limit at the location\n",
    "data_speed_limit"
   ]
  },
  {
   "cell_type": "markdown",
   "metadata": {},
   "source": [
    "#### Traffic Volume"
   ]
  },
  {
   "cell_type": "code",
   "execution_count": 5,
   "metadata": {},
   "outputs": [],
   "source": [
    "# Need a dataframe with lat, long, and volume at the location"
   ]
  },
  {
   "cell_type": "markdown",
   "metadata": {},
   "source": [
    "#### Traffic Cameras"
   ]
  },
  {
   "cell_type": "code",
   "execution_count": 6,
   "metadata": {},
   "outputs": [],
   "source": [
    "# Read csv file\n",
    "data_traffic_cameras = pd.read_csv('Traffic_Camera_Locations.csv')\n",
    "\n",
    "# Drop unwanted columns\n",
    "data_traffic_cameras.drop(columns=['Camera Location', 'Quadrant', 'Camera URL'], inplace=True)\n",
    "\n",
    "# Drop any NaN values\n",
    "data_traffic_cameras.dropna(inplace=True)\n",
    "\n",
    "# Add a count column\n",
    "data_traffic_cameras['Count'] = 1"
   ]
  },
  {
   "cell_type": "markdown",
   "metadata": {},
   "source": [
    "#### Traffic Signals"
   ]
  },
  {
   "cell_type": "code",
   "execution_count": 7,
   "metadata": {},
   "outputs": [],
   "source": [
    "# Read csv file\n",
    "data_traffic_signals = pd.read_csv('Traffic_Signals.csv')\n",
    "\n",
    "# Drop unwanted columns\n",
    "data_traffic_signals.drop(columns=['INSTDATE', 'FIRSTROAD', 'SECONDROAD', 'QUADRANT',\n",
    "                                   'INT_TYPE', 'PEDBUTTONS', 'PED_TIMER', \n",
    "                                   'ACCESSIBLE PEDESTRIAN SIGNAL', 'Point'], inplace=True)\n",
    "\n",
    "# Drop any NaN values\n",
    "data_traffic_signals.dropna(inplace=True)"
   ]
  },
  {
   "cell_type": "markdown",
   "metadata": {},
   "source": [
    "#### Traffic Signs"
   ]
  },
  {
   "cell_type": "code",
   "execution_count": 8,
   "metadata": {},
   "outputs": [],
   "source": [
    "# Read csv file\n",
    "data_traffic_signs = pd.read_csv('Traffic_Signs.csv')\n",
    "\n",
    "# Drop unwanted columns\n",
    "data_traffic_signs.drop(columns=['BLADE_TYPE', 'COMMENTS', 'FACING_CD', 'FLD_SRC_TXT', \n",
    "                                 'INSTDATE', 'MATERIAL', 'PL_TY', 'REUSE', 'SGN_STA_CD',\n",
    "                                 'SIGN_TXT', 'STA_CD', 'SIZE_CD', 'SUPPORTTYPE', 'UNITID',\n",
    "                                 'TE_SIGNLOCATION_UNITID', 'Ward Boundaries', 'City Quadrants',\n",
    "                                 'Calgary Communities', 'Ward Boundaries 2013-2017'], inplace=True)\n",
    "\n",
    "# Drop any NaN values\n",
    "data_traffic_signs.dropna(inplace=True)\n",
    "\n",
    "# Get long and lat from point\n",
    "data_traffic_signs['longitude'] = data_traffic_signs['POINT']\n",
    "data_traffic_signs['latitude'] = data_traffic_signs['POINT']\n",
    "data_traffic_signs['longitude'] = data_traffic_signs['longitude'].apply(lambda x: float(x[7:x.index(' ', 7)]))\n",
    "data_traffic_signs['latitude'] = data_traffic_signs['latitude'].apply(lambda x: float(x[x.index(' ', 7):-1]))\n",
    "\n",
    "# Drop point column\n",
    "data_traffic_signs.drop(columns=['POINT'], inplace=True)\n",
    "\n",
    "# Rename count column to 'count'\n",
    "data_traffic_signs.rename(columns={\"SGN_COUNT_NO\": \"Count\"}, inplace=True)"
   ]
  },
  {
   "cell_type": "markdown",
   "metadata": {},
   "source": [
    "#### Weather Conditions"
   ]
  },
  {
   "cell_type": "code",
   "execution_count": 9,
   "metadata": {},
   "outputs": [],
   "source": [
    "# Need a dataframe with lat, long, avg temp, and avg visibility at the location"
   ]
  },
  {
   "cell_type": "markdown",
   "metadata": {},
   "source": [
    "#### Traffic Accidents"
   ]
  },
  {
   "cell_type": "code",
   "execution_count": 10,
   "metadata": {},
   "outputs": [],
   "source": [
    "# Read csv file\n",
    "data_traffic_accidents = pd.read_csv('Traffic_Signals.csv')\n",
    "\n",
    "# Drop unwanted columns\n",
    "data_traffic_accidents.drop(columns=['INSTDATE', 'FIRSTROAD', 'SECONDROAD', 'QUADRANT', 'INT_TYPE',\n",
    "                                     'PEDBUTTONS', 'PED_TIMER', 'ACCESSIBLE PEDESTRIAN SIGNAL', 'Point'], inplace=True)\n",
    "\n",
    "# Drop any NaN values\n",
    "data_traffic_accidents.dropna(inplace=True)"
   ]
  },
  {
   "cell_type": "markdown",
   "metadata": {},
   "source": [
    "### Analyse Data"
   ]
  },
  {
   "cell_type": "code",
   "execution_count": 11,
   "metadata": {},
   "outputs": [],
   "source": [
    "# Add data to quadrant dictionary \n",
    "for i in range(10):\n",
    "    for j in range(10):\n",
    "        #quadrant[i][j]['Average Speed']\n",
    "        #quadrant[i][j]['Average Traffic Volume']\n",
    "        quadrant[i][j]['Number of Traffic Cameras'] = data_traffic_cameras[((data_traffic_cameras['latitude'] >= quadrant[i][j]['min_lat']) &\n",
    "                                                                            (data_traffic_cameras['latitude'] < quadrant[i][j]['max_lat']) &\n",
    "                                                                            (data_traffic_cameras['longitude'] >= quadrant[i][j]['min_long']) &\n",
    "                                                                            (data_traffic_cameras['longitude'] < quadrant[i][j]['max_long']))]['Count'].sum()\n",
    "        quadrant[i][j]['Number of Traffic Signals'] = data_traffic_signals[((data_traffic_signals['latitude'] >= quadrant[i][j]['min_lat']) &\n",
    "                                                                            (data_traffic_signals['latitude'] < quadrant[i][j]['max_lat']) &\n",
    "                                                                            (data_traffic_signals['longitude'] >= quadrant[i][j]['min_long']) &\n",
    "                                                                            (data_traffic_signals['longitude'] < quadrant[i][j]['max_long']))]['Count'].sum()\n",
    "        quadrant[i][j]['Number of Traffic Signs'] = data_traffic_signs[((data_traffic_signs['latitude'] >= quadrant[i][j]['min_lat']) &\n",
    "                                                                        (data_traffic_signs['latitude'] < quadrant[i][j]['max_lat']) &\n",
    "                                                                        (data_traffic_signs['longitude'] >= quadrant[i][j]['min_long']) &\n",
    "                                                                        (data_traffic_signs['longitude'] < quadrant[i][j]['max_long']))]['Count'].sum()\n",
    "        #quadrant[i][j]['Average Temperature']\n",
    "        #quadrant[i][j]['Average Visibility']\n",
    "        quadrant[i][j]['Number of Traffic Accidents'] = data_traffic_accidents[((data_traffic_accidents['latitude'] >= quadrant[i][j]['min_lat']) &\n",
    "                                                                                (data_traffic_accidents['latitude'] < quadrant[i][j]['max_lat']) &\n",
    "                                                                                (data_traffic_accidents['longitude'] >= quadrant[i][j]['min_long']) &\n",
    "                                                                                (data_traffic_accidents['longitude'] < quadrant[i][j]['max_long']))]['Count'].sum()\n",
    "        \n",
    "# Visualize data"
   ]
  },
  {
   "cell_type": "markdown",
   "metadata": {},
   "source": [
    "## Visualizing Speed Limits"
   ]
  },
  {
   "cell_type": "code",
   "execution_count": 47,
   "metadata": {},
   "outputs": [
    {
     "data": {
      "text/html": [
       "<div style=\"width:100%;\"><div style=\"position:relative;width:100%;height:0;padding-bottom:60%;\"><span style=\"color:#565656\">Make this Notebook Trusted to load map: File -> Trust Notebook</span><iframe src=\"about:blank\" style=\"position:absolute;width:100%;height:100%;left:0;top:0;border:none !important;\" data-html=PCFET0NUWVBFIGh0bWw+CjxoZWFkPiAgICAKICAgIDxtZXRhIGh0dHAtZXF1aXY9ImNvbnRlbnQtdHlwZSIgY29udGVudD0idGV4dC9odG1sOyBjaGFyc2V0PVVURi04IiAvPgogICAgCiAgICAgICAgPHNjcmlwdD4KICAgICAgICAgICAgTF9OT19UT1VDSCA9IGZhbHNlOwogICAgICAgICAgICBMX0RJU0FCTEVfM0QgPSBmYWxzZTsKICAgICAgICA8L3NjcmlwdD4KICAgIAogICAgPHNjcmlwdCBzcmM9Imh0dHBzOi8vY2RuLmpzZGVsaXZyLm5ldC9ucG0vbGVhZmxldEAxLjYuMC9kaXN0L2xlYWZsZXQuanMiPjwvc2NyaXB0PgogICAgPHNjcmlwdCBzcmM9Imh0dHBzOi8vY29kZS5qcXVlcnkuY29tL2pxdWVyeS0xLjEyLjQubWluLmpzIj48L3NjcmlwdD4KICAgIDxzY3JpcHQgc3JjPSJodHRwczovL21heGNkbi5ib290c3RyYXBjZG4uY29tL2Jvb3RzdHJhcC8zLjIuMC9qcy9ib290c3RyYXAubWluLmpzIj48L3NjcmlwdD4KICAgIDxzY3JpcHQgc3JjPSJodHRwczovL2NkbmpzLmNsb3VkZmxhcmUuY29tL2FqYXgvbGlicy9MZWFmbGV0LmF3ZXNvbWUtbWFya2Vycy8yLjAuMi9sZWFmbGV0LmF3ZXNvbWUtbWFya2Vycy5qcyI+PC9zY3JpcHQ+CiAgICA8bGluayByZWw9InN0eWxlc2hlZXQiIGhyZWY9Imh0dHBzOi8vY2RuLmpzZGVsaXZyLm5ldC9ucG0vbGVhZmxldEAxLjYuMC9kaXN0L2xlYWZsZXQuY3NzIi8+CiAgICA8bGluayByZWw9InN0eWxlc2hlZXQiIGhyZWY9Imh0dHBzOi8vbWF4Y2RuLmJvb3RzdHJhcGNkbi5jb20vYm9vdHN0cmFwLzMuMi4wL2Nzcy9ib290c3RyYXAubWluLmNzcyIvPgogICAgPGxpbmsgcmVsPSJzdHlsZXNoZWV0IiBocmVmPSJodHRwczovL21heGNkbi5ib290c3RyYXBjZG4uY29tL2Jvb3RzdHJhcC8zLjIuMC9jc3MvYm9vdHN0cmFwLXRoZW1lLm1pbi5jc3MiLz4KICAgIDxsaW5rIHJlbD0ic3R5bGVzaGVldCIgaHJlZj0iaHR0cHM6Ly9tYXhjZG4uYm9vdHN0cmFwY2RuLmNvbS9mb250LWF3ZXNvbWUvNC42LjMvY3NzL2ZvbnQtYXdlc29tZS5taW4uY3NzIi8+CiAgICA8bGluayByZWw9InN0eWxlc2hlZXQiIGhyZWY9Imh0dHBzOi8vY2RuanMuY2xvdWRmbGFyZS5jb20vYWpheC9saWJzL0xlYWZsZXQuYXdlc29tZS1tYXJrZXJzLzIuMC4yL2xlYWZsZXQuYXdlc29tZS1tYXJrZXJzLmNzcyIvPgogICAgPGxpbmsgcmVsPSJzdHlsZXNoZWV0IiBocmVmPSJodHRwczovL3Jhd2Nkbi5naXRoYWNrLmNvbS9weXRob24tdmlzdWFsaXphdGlvbi9mb2xpdW0vbWFzdGVyL2ZvbGl1bS90ZW1wbGF0ZXMvbGVhZmxldC5hd2Vzb21lLnJvdGF0ZS5jc3MiLz4KICAgIDxzdHlsZT5odG1sLCBib2R5IHt3aWR0aDogMTAwJTtoZWlnaHQ6IDEwMCU7bWFyZ2luOiAwO3BhZGRpbmc6IDA7fTwvc3R5bGU+CiAgICA8c3R5bGU+I21hcCB7cG9zaXRpb246YWJzb2x1dGU7dG9wOjA7Ym90dG9tOjA7cmlnaHQ6MDtsZWZ0OjA7fTwvc3R5bGU+CiAgICAKICAgICAgICAgICAgPG1ldGEgbmFtZT0idmlld3BvcnQiIGNvbnRlbnQ9IndpZHRoPWRldmljZS13aWR0aCwKICAgICAgICAgICAgICAgIGluaXRpYWwtc2NhbGU9MS4wLCBtYXhpbXVtLXNjYWxlPTEuMCwgdXNlci1zY2FsYWJsZT1ubyIgLz4KICAgICAgICAgICAgPHN0eWxlPgogICAgICAgICAgICAgICAgI21hcF85NDg3YzEwMTZkYzk0YzRhYWExNGE5NjkxNmYzYTkxMiB7CiAgICAgICAgICAgICAgICAgICAgcG9zaXRpb246IHJlbGF0aXZlOwogICAgICAgICAgICAgICAgICAgIHdpZHRoOiAxMDAuMCU7CiAgICAgICAgICAgICAgICAgICAgaGVpZ2h0OiAxMDAuMCU7CiAgICAgICAgICAgICAgICAgICAgbGVmdDogMC4wJTsKICAgICAgICAgICAgICAgICAgICB0b3A6IDAuMCU7CiAgICAgICAgICAgICAgICB9CiAgICAgICAgICAgIDwvc3R5bGU+CiAgICAgICAgCjwvaGVhZD4KPGJvZHk+ICAgIAogICAgCiAgICAgICAgICAgIDxkaXYgY2xhc3M9ImZvbGl1bS1tYXAiIGlkPSJtYXBfOTQ4N2MxMDE2ZGM5NGM0YWFhMTRhOTY5MTZmM2E5MTIiID48L2Rpdj4KICAgICAgICAKPC9ib2R5Pgo8c2NyaXB0PiAgICAKICAgIAogICAgICAgICAgICB2YXIgbWFwXzk0ODdjMTAxNmRjOTRjNGFhYTE0YTk2OTE2ZjNhOTEyID0gTC5tYXAoCiAgICAgICAgICAgICAgICAibWFwXzk0ODdjMTAxNmRjOTRjNGFhYTE0YTk2OTE2ZjNhOTEyIiwKICAgICAgICAgICAgICAgIHsKICAgICAgICAgICAgICAgICAgICBjZW50ZXI6IFs1MS4wNDQ3LCAtMTE0LjA3MTldLAogICAgICAgICAgICAgICAgICAgIGNyczogTC5DUlMuRVBTRzM4NTcsCiAgICAgICAgICAgICAgICAgICAgem9vbTogMTAsCiAgICAgICAgICAgICAgICAgICAgem9vbUNvbnRyb2w6IHRydWUsCiAgICAgICAgICAgICAgICAgICAgcHJlZmVyQ2FudmFzOiBmYWxzZSwKICAgICAgICAgICAgICAgIH0KICAgICAgICAgICAgKTsKCiAgICAgICAgICAgIAoKICAgICAgICAKICAgIAogICAgICAgICAgICB2YXIgdGlsZV9sYXllcl8wMDc3ZjRmYTI5YTQ0Y2FjYmQ1MmJmZmM3OWU0NjcwOSA9IEwudGlsZUxheWVyKAogICAgICAgICAgICAgICAgImh0dHBzOi8ve3N9LnRpbGUub3BlbnN0cmVldG1hcC5vcmcve3p9L3t4fS97eX0ucG5nIiwKICAgICAgICAgICAgICAgIHsiYXR0cmlidXRpb24iOiAiRGF0YSBieSBcdTAwMjZjb3B5OyBcdTAwM2NhIGhyZWY9XCJodHRwOi8vb3BlbnN0cmVldG1hcC5vcmdcIlx1MDAzZU9wZW5TdHJlZXRNYXBcdTAwM2MvYVx1MDAzZSwgdW5kZXIgXHUwMDNjYSBocmVmPVwiaHR0cDovL3d3dy5vcGVuc3RyZWV0bWFwLm9yZy9jb3B5cmlnaHRcIlx1MDAzZU9EYkxcdTAwM2MvYVx1MDAzZS4iLCAiZGV0ZWN0UmV0aW5hIjogZmFsc2UsICJtYXhOYXRpdmVab29tIjogMTgsICJtYXhab29tIjogMTgsICJtaW5ab29tIjogMCwgIm5vV3JhcCI6IGZhbHNlLCAib3BhY2l0eSI6IDEsICJzdWJkb21haW5zIjogImFiYyIsICJ0bXMiOiBmYWxzZX0KICAgICAgICAgICAgKS5hZGRUbyhtYXBfOTQ4N2MxMDE2ZGM5NGM0YWFhMTRhOTY5MTZmM2E5MTIpOwogICAgICAgIAogICAgCiAgICAgICAgICAgIHZhciBwb2x5X2xpbmVfMzYzZTNlN2VhM2FlNGYwZGI2ZmFlNTYyOTFhMDc4ZWEgPSBMLnBvbHlsaW5lKAogICAgICAgICAgICAgICAgW1s1MC45NjM0ODI0NzMwMTcsIC0xMTQuMDAxNzg0ODA1NzE3XSwgWzUwLjk2MzM5MjM3OTM0OSwgLTExNC4wMDE3ODQ4MDIyNjVdLCBbNTAuOTYzOTI0NDgxMjgzLCAtMTE0LjAwMTc2NTAxMDU4OF0sIFs1MC45NjM0ODI0NzMwMTcsIC0xMTQuMDAxNzg0ODA1NzE3XSwgWzUwLjk2NDc0NjQ4MzM2NywgLTExNC4wMDE3NTkzODAwMjhdLCBbNTAuOTY0MzY1NTQ4OTU3LCAtMTE0LjAwMTc1OTYwOTA3Nl0sIFs1MS4xLCAtMTEzLjhdXSwKICAgICAgICAgICAgICAgIHsiYnViYmxpbmdNb3VzZUV2ZW50cyI6IHRydWUsICJjb2xvciI6ICIjZmYwMDAwIiwgImRhc2hBcnJheSI6IG51bGwsICJkYXNoT2Zmc2V0IjogbnVsbCwgImZpbGwiOiBmYWxzZSwgImZpbGxDb2xvciI6ICIjZmYwMDAwIiwgImZpbGxPcGFjaXR5IjogMC4yLCAiZmlsbFJ1bGUiOiAiZXZlbm9kZCIsICJsaW5lQ2FwIjogInJvdW5kIiwgImxpbmVKb2luIjogInJvdW5kIiwgIm5vQ2xpcCI6IGZhbHNlLCAib3BhY2l0eSI6IDEuMCwgInNtb290aEZhY3RvciI6IDEuMCwgInN0cm9rZSI6IHRydWUsICJ3ZWlnaHQiOiAyMH0KICAgICAgICAgICAgKS5hZGRUbyhtYXBfOTQ4N2MxMDE2ZGM5NGM0YWFhMTRhOTY5MTZmM2E5MTIpOwogICAgICAgIAo8L3NjcmlwdD4= onload=\"this.contentDocument.open();this.contentDocument.write(atob(this.getAttribute('data-html')));this.contentDocument.close();\" allowfullscreen webkitallowfullscreen mozallowfullscreen></iframe></div></div>"
      ],
      "text/plain": [
       "<folium.folium.Map at 0x2484e312388>"
      ]
     },
     "execution_count": 47,
     "metadata": {},
     "output_type": "execute_result"
    }
   ],
   "source": [
    "# Create the map\n",
    "map_speed_limits = folium.Map(location=[51.0447, -114.0719], zoom_start=10)\n",
    "\n",
    "# Go through every road\n",
    "for index, row in data_speed_limit.iterrows():\n",
    "    # Get coordinates for the road\n",
    "    coordinates = row['coordinates']\n",
    "    # Get color intensity based on speed limit\n",
    "    color = '#%02x%02x%02x' % (int(min(row['speed limit'] * 255 / 110, 255)), 0, 0)\n",
    "    # Add line to the map\n",
    "    folium.PolyLine(locations=coordinates,weight=5, color=color).add_to(map_speed_limits)\n",
    "\n",
    "# Save map\n",
    "map_speed_limits.save('map_speed_limits.html')"
   ]
  },
  {
   "cell_type": "markdown",
   "metadata": {},
   "source": [
    "## Visualizing Traffic Heat Map"
   ]
  },
  {
   "cell_type": "code",
   "execution_count": 13,
   "metadata": {},
   "outputs": [],
   "source": [
    "# Do a heat map of the traffic volume"
   ]
  }
 ],
 "metadata": {
  "kernelspec": {
   "display_name": "Python 3",
   "language": "python",
   "name": "python3"
  },
  "language_info": {
   "codemirror_mode": {
    "name": "ipython",
    "version": 3
   },
   "file_extension": ".py",
   "mimetype": "text/x-python",
   "name": "python",
   "nbconvert_exporter": "python",
   "pygments_lexer": "ipython3",
   "version": "3.7.6"
  }
 },
 "nbformat": 4,
 "nbformat_minor": 4
}
